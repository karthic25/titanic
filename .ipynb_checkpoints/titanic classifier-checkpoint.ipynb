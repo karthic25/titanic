{
 "cells": [
  {
   "cell_type": "code",
   "execution_count": 1,
   "metadata": {},
   "outputs": [],
   "source": [
    "import os, json, math\n",
    "import numpy as np\n",
    "import pandas as pd\n",
    "import matplotlib.pyplot as plt"
   ]
  },
  {
   "cell_type": "code",
   "execution_count": 2,
   "metadata": {},
   "outputs": [
    {
     "data": {
      "text/html": [
       "<div>\n",
       "<style scoped>\n",
       "    .dataframe tbody tr th:only-of-type {\n",
       "        vertical-align: middle;\n",
       "    }\n",
       "\n",
       "    .dataframe tbody tr th {\n",
       "        vertical-align: top;\n",
       "    }\n",
       "\n",
       "    .dataframe thead th {\n",
       "        text-align: right;\n",
       "    }\n",
       "</style>\n",
       "<table border=\"1\" class=\"dataframe\">\n",
       "  <thead>\n",
       "    <tr style=\"text-align: right;\">\n",
       "      <th></th>\n",
       "      <th>PassengerId</th>\n",
       "      <th>Survived</th>\n",
       "    </tr>\n",
       "  </thead>\n",
       "  <tbody>\n",
       "    <tr>\n",
       "      <th>0</th>\n",
       "      <td>892</td>\n",
       "      <td>0</td>\n",
       "    </tr>\n",
       "    <tr>\n",
       "      <th>1</th>\n",
       "      <td>893</td>\n",
       "      <td>1</td>\n",
       "    </tr>\n",
       "    <tr>\n",
       "      <th>2</th>\n",
       "      <td>894</td>\n",
       "      <td>0</td>\n",
       "    </tr>\n",
       "    <tr>\n",
       "      <th>3</th>\n",
       "      <td>895</td>\n",
       "      <td>0</td>\n",
       "    </tr>\n",
       "    <tr>\n",
       "      <th>4</th>\n",
       "      <td>896</td>\n",
       "      <td>1</td>\n",
       "    </tr>\n",
       "  </tbody>\n",
       "</table>\n",
       "</div>"
      ],
      "text/plain": [
       "   PassengerId  Survived\n",
       "0          892         0\n",
       "1          893         1\n",
       "2          894         0\n",
       "3          895         0\n",
       "4          896         1"
      ]
     },
     "execution_count": 2,
     "metadata": {},
     "output_type": "execute_result"
    }
   ],
   "source": [
    "sample_submissions = pd.read_csv('gender_submission.csv')\n",
    "sample_submissions.head()"
   ]
  },
  {
   "cell_type": "code",
   "execution_count": 3,
   "metadata": {},
   "outputs": [
    {
     "name": "stdout",
     "output_type": "stream",
     "text": [
      "<class 'pandas.core.frame.DataFrame'>\n",
      "RangeIndex: 891 entries, 0 to 890\n",
      "Data columns (total 12 columns):\n",
      " #   Column       Non-Null Count  Dtype  \n",
      "---  ------       --------------  -----  \n",
      " 0   PassengerId  891 non-null    int64  \n",
      " 1   Survived     891 non-null    int64  \n",
      " 2   Pclass       891 non-null    int64  \n",
      " 3   Name         891 non-null    object \n",
      " 4   Sex          891 non-null    object \n",
      " 5   Age          714 non-null    float64\n",
      " 6   SibSp        891 non-null    int64  \n",
      " 7   Parch        891 non-null    int64  \n",
      " 8   Ticket       891 non-null    object \n",
      " 9   Fare         891 non-null    float64\n",
      " 10  Cabin        204 non-null    object \n",
      " 11  Embarked     889 non-null    object \n",
      "dtypes: float64(2), int64(5), object(5)\n",
      "memory usage: 83.7+ KB\n"
     ]
    }
   ],
   "source": [
    "data = pd.read_csv('train.csv')\n",
    "data.info()"
   ]
  },
  {
   "cell_type": "code",
   "execution_count": 4,
   "metadata": {
    "scrolled": false
   },
   "outputs": [
    {
     "name": "stdout",
     "output_type": "stream",
     "text": [
      "<class 'pandas.core.frame.DataFrame'>\n",
      "RangeIndex: 891 entries, 0 to 890\n",
      "Data columns (total 39 columns):\n",
      " #   Column           Non-Null Count  Dtype  \n",
      "---  ------           --------------  -----  \n",
      " 0   PassengerId      891 non-null    int64  \n",
      " 1   Survived         891 non-null    int64  \n",
      " 2   Pclass           891 non-null    int64  \n",
      " 3   Age              891 non-null    float64\n",
      " 4   SibSp            891 non-null    int64  \n",
      " 5   Parch            891 non-null    int64  \n",
      " 6   Fare             891 non-null    float64\n",
      " 7   Title_Don.       891 non-null    int64  \n",
      " 8   Title_Jonkheer.  891 non-null    int64  \n",
      " 9   Title_Mr.        891 non-null    int64  \n",
      " 10  Title_Miss.      891 non-null    int64  \n",
      " 11  Title_Lady.      891 non-null    int64  \n",
      " 12  Title_Mlle.      891 non-null    int64  \n",
      " 13  Title_Col.       891 non-null    int64  \n",
      " 14  Title_Capt.      891 non-null    int64  \n",
      " 15  Title_Master.    891 non-null    int64  \n",
      " 16  Title_Dr.        891 non-null    int64  \n",
      " 17  Title_Mme.       891 non-null    int64  \n",
      " 18  Title_Ms.        891 non-null    int64  \n",
      " 19  Title_the        891 non-null    int64  \n",
      " 20  Title_Major.     891 non-null    int64  \n",
      " 21  Title_Rev.       891 non-null    int64  \n",
      " 22  Title_Mrs.       891 non-null    int64  \n",
      " 23  Title_Sir.       891 non-null    int64  \n",
      " 24  Sex_female       891 non-null    int64  \n",
      " 25  Sex_male         891 non-null    int64  \n",
      " 26  Cabin_Level_C    891 non-null    int64  \n",
      " 27  Cabin_Level_D    891 non-null    int64  \n",
      " 28  Cabin_Level_T    891 non-null    int64  \n",
      " 29  Cabin_Level_N    891 non-null    int64  \n",
      " 30  Cabin_Level_A    891 non-null    int64  \n",
      " 31  Cabin_Level_E    891 non-null    int64  \n",
      " 32  Cabin_Level_B    891 non-null    int64  \n",
      " 33  Cabin_Level_F    891 non-null    int64  \n",
      " 34  Cabin_Level_G    891 non-null    int64  \n",
      " 35  Embarked_S       891 non-null    int64  \n",
      " 36  Embarked_Q       891 non-null    int64  \n",
      " 37  Embarked_N       891 non-null    int64  \n",
      " 38  Embarked_C       891 non-null    int64  \n",
      "dtypes: float64(2), int64(37)\n",
      "memory usage: 271.6 KB\n"
     ]
    }
   ],
   "source": [
    "def dummy_var(df, var):\n",
    "    for sv in set(transformed[var]):\n",
    "        transformed[var + '_' + sv] = [1 if v == sv else 0 for v in transformed[var]]\n",
    "    transformed.drop(var, axis=1, inplace=True)\n",
    "\n",
    "transformed = data.copy()\n",
    "\n",
    "transformed['Title'] = [i.split(',')[-1].strip().split(' ')[0] for i in transformed['Name']]\n",
    "transformed['Cabin_Level'] = [i[0] if type(i) == str else 'N' for i in transformed['Cabin']]\n",
    "transformed['Embarked'] = [i if type(i) == str else 'N' for i in transformed['Embarked']]\n",
    "transformed['Age'].fillna(np.mean(transformed['Age']), inplace=True)\n",
    "\n",
    "transformed.drop('Name', axis=1, inplace=True)\n",
    "transformed.drop('Cabin', axis=1, inplace=True)\n",
    "transformed.drop('Ticket', axis=1, inplace=True)\n",
    "\n",
    "dummy_var(transformed, 'Title')\n",
    "dummy_var(transformed, 'Sex')\n",
    "dummy_var(transformed, 'Cabin_Level')\n",
    "dummy_var(transformed, 'Embarked')\n",
    "\n",
    "transformed.info()"
   ]
  },
  {
   "cell_type": "code",
   "execution_count": 5,
   "metadata": {},
   "outputs": [
    {
     "name": "stdout",
     "output_type": "stream",
     "text": [
      "38.38383838383838\n",
      "['Survived']\n"
     ]
    }
   ],
   "source": [
    "n = transformed.shape[0]\n",
    "n_survived = sum(transformed['Survived'])\n",
    "pct_survived = n_survived*100/n\n",
    "print(pct_survived)\n",
    "\n",
    "labels = ['Survived']\n",
    "variables = [col for col in transformed.columns if col not in labels]\n",
    "print(labels)"
   ]
  },
  {
   "cell_type": "code",
   "execution_count": 6,
   "metadata": {},
   "outputs": [
    {
     "data": {
      "text/plain": [
       "((712, 38), (712,), (179, 38), (179,))"
      ]
     },
     "execution_count": 6,
     "metadata": {},
     "output_type": "execute_result"
    }
   ],
   "source": [
    "from sklearn.model_selection import train_test_split\n",
    "X_train, X_test, y_train, y_test = train_test_split(\n",
    "     transformed[variables], transformed['Survived'], test_size=0.2, \n",
    "     random_state=0, shuffle=True, stratify=transformed[labels]\n",
    ")\n",
    "X_train.shape, y_train.shape, X_test.shape, y_test.shape"
   ]
  },
  {
   "cell_type": "code",
   "execution_count": 7,
   "metadata": {},
   "outputs": [
    {
     "data": {
      "text/plain": [
       "(38.547486033519554, 38.342696629213485)"
      ]
     },
     "execution_count": 7,
     "metadata": {},
     "output_type": "execute_result"
    }
   ],
   "source": [
    "sum(y_test)*100/179, sum(y_train)*100/712"
   ]
  },
  {
   "cell_type": "code",
   "execution_count": 8,
   "metadata": {},
   "outputs": [
    {
     "data": {
      "text/plain": [
       "{'C': [0.1, 1, 10, 100],\n",
       " 'gamma': [1, 0.1, 0.01, 0.001],\n",
       " 'kernel': ['linear', 'rbf', 'poly', 'sigmoid']}"
      ]
     },
     "execution_count": 8,
     "metadata": {},
     "output_type": "execute_result"
    }
   ],
   "source": [
    "param_grid = {\n",
    "    'C': [0.1,1, 10, 100], \n",
    "    'gamma': [1,0.1,0.01,0.001],\n",
    "    'kernel': ['linear', 'rbf', 'poly', 'sigmoid']\n",
    "}\n",
    "param_grid"
   ]
  },
  {
   "cell_type": "code",
   "execution_count": null,
   "metadata": {},
   "outputs": [
    {
     "name": "stdout",
     "output_type": "stream",
     "text": [
      "Fitting 5 folds for each of 64 candidates, totalling 320 fits\n"
     ]
    },
    {
     "name": "stderr",
     "output_type": "stream",
     "text": [
      "[Parallel(n_jobs=-1)]: Using backend LokyBackend with 4 concurrent workers.\n",
      "[Parallel(n_jobs=-1)]: Done   5 tasks      | elapsed:   11.0s\n",
      "[Parallel(n_jobs=-1)]: Done  10 tasks      | elapsed:   18.5s\n"
     ]
    }
   ],
   "source": [
    "from sklearn.svm import SVC\n",
    "from sklearn.model_selection import GridSearchCV\n",
    "svc = SVC()\n",
    "gridsearchcv = GridSearchCV(svc, param_grid, scoring='accuracy', n_jobs=-1, verbose=10, cv=5)\n",
    "gridsearchcv.fit(X_train, y_train)\n",
    "y_pred = gridsearchcv.predict(X_test)\n",
    "y_train_pred = gridsearchcv.predict(X_train)"
   ]
  },
  {
   "cell_type": "code",
   "execution_count": null,
   "metadata": {},
   "outputs": [],
   "source": [
    "from sklearn.metrics import plot_confusion_matrix\n",
    "disp = plot_confusion_matrix(svc, X_test, y_test, display_labels=['Survived', 'Not Survived'],cmap=plt.cm.Blues)\n",
    "print(disp.confusion_matrix)\n",
    "plt.show()"
   ]
  },
  {
   "cell_type": "code",
   "execution_count": null,
   "metadata": {},
   "outputs": [],
   "source": [
    "from sklearn.metrics import accuracy_score\n",
    "accuracy_score(y_true, y_pred)"
   ]
  }
 ],
 "metadata": {
  "kernelspec": {
   "display_name": "Python 3",
   "language": "python",
   "name": "python3"
  },
  "language_info": {
   "codemirror_mode": {
    "name": "ipython",
    "version": 3
   },
   "file_extension": ".py",
   "mimetype": "text/x-python",
   "name": "python",
   "nbconvert_exporter": "python",
   "pygments_lexer": "ipython3",
   "version": "3.6.9"
  }
 },
 "nbformat": 4,
 "nbformat_minor": 2
}
