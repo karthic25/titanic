{
 "cells": [
  {
   "cell_type": "code",
   "execution_count": 108,
   "metadata": {},
   "outputs": [],
   "source": [
    "# Generic\n",
    "import os, json, math\n",
    "import numpy as np\n",
    "import pandas as pd\n",
    "import matplotlib.pyplot as plt"
   ]
  },
  {
   "cell_type": "code",
   "execution_count": 109,
   "metadata": {},
   "outputs": [],
   "source": [
    "# Modelling\n",
    "from sklearn.svm import SVC\n",
    "from sklearn.ensemble import RandomForestClassifier\n",
    "from sklearn.model_selection import GridSearchCV, RandomizedSearchCV\n",
    "from sklearn.metrics import accuracy_score\n",
    "from lightgbm import LGBMClassifier\n",
    "from xgboost import XGBClassifier"
   ]
  },
  {
   "cell_type": "code",
   "execution_count": 110,
   "metadata": {},
   "outputs": [
    {
     "name": "stdout",
     "output_type": "stream",
     "text": [
      "/home/karthicp/Desktop/titanic\n"
     ]
    },
    {
     "data": {
      "text/html": [
       "<div>\n",
       "<style scoped>\n",
       "    .dataframe tbody tr th:only-of-type {\n",
       "        vertical-align: middle;\n",
       "    }\n",
       "\n",
       "    .dataframe tbody tr th {\n",
       "        vertical-align: top;\n",
       "    }\n",
       "\n",
       "    .dataframe thead th {\n",
       "        text-align: right;\n",
       "    }\n",
       "</style>\n",
       "<table border=\"1\" class=\"dataframe\">\n",
       "  <thead>\n",
       "    <tr style=\"text-align: right;\">\n",
       "      <th></th>\n",
       "      <th>PassengerId</th>\n",
       "      <th>Survived</th>\n",
       "    </tr>\n",
       "  </thead>\n",
       "  <tbody>\n",
       "    <tr>\n",
       "      <th>0</th>\n",
       "      <td>892</td>\n",
       "      <td>0</td>\n",
       "    </tr>\n",
       "    <tr>\n",
       "      <th>1</th>\n",
       "      <td>893</td>\n",
       "      <td>1</td>\n",
       "    </tr>\n",
       "    <tr>\n",
       "      <th>2</th>\n",
       "      <td>894</td>\n",
       "      <td>0</td>\n",
       "    </tr>\n",
       "    <tr>\n",
       "      <th>3</th>\n",
       "      <td>895</td>\n",
       "      <td>0</td>\n",
       "    </tr>\n",
       "    <tr>\n",
       "      <th>4</th>\n",
       "      <td>896</td>\n",
       "      <td>1</td>\n",
       "    </tr>\n",
       "  </tbody>\n",
       "</table>\n",
       "</div>"
      ],
      "text/plain": [
       "   PassengerId  Survived\n",
       "0          892         0\n",
       "1          893         1\n",
       "2          894         0\n",
       "3          895         0\n",
       "4          896         1"
      ]
     },
     "execution_count": 110,
     "metadata": {},
     "output_type": "execute_result"
    }
   ],
   "source": [
    "print(os.getcwd())\n",
    "parent_path = './'\n",
    "sample_submissions = pd.read_csv(parent_path + 'gender_submission.csv')\n",
    "sample_submissions.head()"
   ]
  },
  {
   "cell_type": "code",
   "execution_count": 111,
   "metadata": {},
   "outputs": [
    {
     "name": "stdout",
     "output_type": "stream",
     "text": [
      "<class 'pandas.core.frame.DataFrame'>\n",
      "RangeIndex: 891 entries, 0 to 890\n",
      "Data columns (total 12 columns):\n",
      " #   Column       Non-Null Count  Dtype  \n",
      "---  ------       --------------  -----  \n",
      " 0   PassengerId  891 non-null    int64  \n",
      " 1   Survived     891 non-null    int64  \n",
      " 2   Pclass       891 non-null    int64  \n",
      " 3   Name         891 non-null    object \n",
      " 4   Sex          891 non-null    object \n",
      " 5   Age          714 non-null    float64\n",
      " 6   SibSp        891 non-null    int64  \n",
      " 7   Parch        891 non-null    int64  \n",
      " 8   Ticket       891 non-null    object \n",
      " 9   Fare         891 non-null    float64\n",
      " 10  Cabin        204 non-null    object \n",
      " 11  Embarked     889 non-null    object \n",
      "dtypes: float64(2), int64(5), object(5)\n",
      "memory usage: 83.7+ KB\n"
     ]
    }
   ],
   "source": [
    "data = pd.read_csv(parent_path + 'train.csv')\n",
    "data.info()"
   ]
  },
  {
   "cell_type": "code",
   "execution_count": 112,
   "metadata": {
    "scrolled": true
   },
   "outputs": [
    {
     "name": "stdout",
     "output_type": "stream",
     "text": [
      "<class 'pandas.core.frame.DataFrame'>\n",
      "RangeIndex: 891 entries, 0 to 890\n",
      "Data columns (total 39 columns):\n",
      " #   Column           Non-Null Count  Dtype  \n",
      "---  ------           --------------  -----  \n",
      " 0   PassengerId      891 non-null    int64  \n",
      " 1   Survived         891 non-null    int64  \n",
      " 2   Pclass           891 non-null    int64  \n",
      " 3   Age              891 non-null    float64\n",
      " 4   SibSp            891 non-null    int64  \n",
      " 5   Parch            891 non-null    int64  \n",
      " 6   Fare             891 non-null    float64\n",
      " 7   Title_Capt.      891 non-null    int64  \n",
      " 8   Title_Mr.        891 non-null    int64  \n",
      " 9   Title_Miss.      891 non-null    int64  \n",
      " 10  Title_Dr.        891 non-null    int64  \n",
      " 11  Title_Mme.       891 non-null    int64  \n",
      " 12  Title_Ms.        891 non-null    int64  \n",
      " 13  Title_Mlle.      891 non-null    int64  \n",
      " 14  Title_Don.       891 non-null    int64  \n",
      " 15  Title_Sir.       891 non-null    int64  \n",
      " 16  Title_Mrs.       891 non-null    int64  \n",
      " 17  Title_Major.     891 non-null    int64  \n",
      " 18  Title_Lady.      891 non-null    int64  \n",
      " 19  Title_Col.       891 non-null    int64  \n",
      " 20  Title_Master.    891 non-null    int64  \n",
      " 21  Title_the        891 non-null    int64  \n",
      " 22  Title_Jonkheer.  891 non-null    int64  \n",
      " 23  Title_Rev.       891 non-null    int64  \n",
      " 24  Sex_male         891 non-null    int64  \n",
      " 25  Sex_female       891 non-null    int64  \n",
      " 26  Cabin_Level_A    891 non-null    int64  \n",
      " 27  Cabin_Level_E    891 non-null    int64  \n",
      " 28  Cabin_Level_N    891 non-null    int64  \n",
      " 29  Cabin_Level_C    891 non-null    int64  \n",
      " 30  Cabin_Level_D    891 non-null    int64  \n",
      " 31  Cabin_Level_B    891 non-null    int64  \n",
      " 32  Cabin_Level_F    891 non-null    int64  \n",
      " 33  Cabin_Level_T    891 non-null    int64  \n",
      " 34  Cabin_Level_G    891 non-null    int64  \n",
      " 35  Embarked_S       891 non-null    int64  \n",
      " 36  Embarked_N       891 non-null    int64  \n",
      " 37  Embarked_Q       891 non-null    int64  \n",
      " 38  Embarked_C       891 non-null    int64  \n",
      "dtypes: float64(2), int64(37)\n",
      "memory usage: 271.6 KB\n"
     ]
    }
   ],
   "source": [
    "def dummy_var(transformed, var):\n",
    "    for sv in set(transformed[var]):\n",
    "        transformed[var + '_' + sv] = [1 if v == sv else 0 for v in transformed[var]]\n",
    "    transformed.drop(var, axis=1, inplace=True)\n",
    "\n",
    "def transform(df):\n",
    "    transformed = df.copy()\n",
    "\n",
    "    transformed['Title'] = [i.split(',')[-1].strip().split(' ')[0] for i in transformed['Name']]\n",
    "    transformed['Cabin_Level'] = [i[0] if type(i) == str else 'N' for i in transformed['Cabin']]\n",
    "    transformed['Embarked'] = [i if type(i) == str else 'N' for i in transformed['Embarked']]\n",
    "    transformed['Age'].fillna(np.mean(transformed['Age']), inplace=True)\n",
    "\n",
    "    transformed.drop('Name', axis=1, inplace=True)\n",
    "    transformed.drop('Cabin', axis=1, inplace=True)\n",
    "    transformed.drop('Ticket', axis=1, inplace=True)\n",
    "\n",
    "    dummy_var(transformed, 'Title')\n",
    "    dummy_var(transformed, 'Sex')\n",
    "    dummy_var(transformed, 'Cabin_Level')\n",
    "    dummy_var(transformed, 'Embarked')\n",
    "\n",
    "    return transformed\n",
    "\n",
    "transformed = transform(data)\n",
    "transformed.info()"
   ]
  },
  {
   "cell_type": "code",
   "execution_count": 113,
   "metadata": {},
   "outputs": [
    {
     "name": "stdout",
     "output_type": "stream",
     "text": [
      "38.38383838383838\n",
      "['Survived']\n"
     ]
    }
   ],
   "source": [
    "n = transformed.shape[0]\n",
    "n_survived = sum(transformed['Survived'])\n",
    "pct_survived = n_survived*100/n\n",
    "print(pct_survived)\n",
    "\n",
    "labels = ['Survived']\n",
    "variables = [col for col in transformed.columns if col not in labels]\n",
    "print(labels)"
   ]
  },
  {
   "cell_type": "code",
   "execution_count": 114,
   "metadata": {},
   "outputs": [
    {
     "data": {
      "text/plain": [
       "((712, 38), (712,), (179, 38), (179,))"
      ]
     },
     "execution_count": 114,
     "metadata": {},
     "output_type": "execute_result"
    }
   ],
   "source": [
    "from sklearn.model_selection import train_test_split\n",
    "X_train, X_test, y_train, y_test = train_test_split(\n",
    "     transformed[variables], transformed['Survived'], test_size=0.2, \n",
    "     random_state=0, shuffle=True, stratify=transformed[labels]\n",
    ")\n",
    "X_train.shape, y_train.shape, X_test.shape, y_test.shape"
   ]
  },
  {
   "cell_type": "code",
   "execution_count": 115,
   "metadata": {},
   "outputs": [
    {
     "data": {
      "text/plain": [
       "(38.547486033519554, 38.342696629213485)"
      ]
     },
     "execution_count": 115,
     "metadata": {},
     "output_type": "execute_result"
    }
   ],
   "source": [
    "sum(y_test)*100/179, sum(y_train)*100/712"
   ]
  },
  {
   "cell_type": "code",
   "execution_count": 154,
   "metadata": {},
   "outputs": [
    {
     "data": {
      "text/plain": [
       "{'C': [0.1,\n",
       "  1.6736842105263159,\n",
       "  3.2473684210526317,\n",
       "  4.821052631578947,\n",
       "  6.394736842105263,\n",
       "  7.968421052631578,\n",
       "  9.542105263157895,\n",
       "  11.11578947368421,\n",
       "  12.689473684210526,\n",
       "  14.263157894736842,\n",
       "  15.836842105263157,\n",
       "  17.410526315789475,\n",
       "  18.984210526315792,\n",
       "  20.55789473684211,\n",
       "  22.13157894736842,\n",
       "  23.705263157894738,\n",
       "  25.278947368421054,\n",
       "  26.85263157894737,\n",
       "  28.426315789473687,\n",
       "  30.0],\n",
       " 'degree': [2, 3, 4],\n",
       " 'kernel': ['linear', 'rbf', 'poly', 'sigmoid']}"
      ]
     },
     "execution_count": 154,
     "metadata": {},
     "output_type": "execute_result"
    }
   ],
   "source": [
    "param_grid = {}\n",
    "param_grid['svc'] = {\n",
    "    'C': [i for i in np.linspace(0.1,30,20)], \n",
    "    'degree': [2,3,4],\n",
    "    'kernel': ['linear', 'rbf', 'poly', 'sigmoid']\n",
    "}\n",
    "param_grid['rfc'] = {\n",
    "    'bootstrap': [True,False],\n",
    "    'max_depth': [int(i) for i in np.linspace(2,40,5)],\n",
    "    'max_features': [\"auto\"],\n",
    "    'criterion': ['gini','entropy'],\n",
    "    'min_samples_leaf': [3, 4, 5],\n",
    "    'min_samples_split': [2, 4, 6, 8, 10],\n",
    "    'n_estimators': [int(i) for i in np.linspace(10, 200, 10)]\n",
    "}\n",
    "param_grid['xgb'] = {\n",
    "    'learning_rate': [0.05, 0.5, 5, 50], #so called `eta` value\n",
    "    'max_depth': [4, 10, 20, 40],\n",
    "    'min_child_weight': [3, 5, 9],\n",
    "    'silent': [1, 2, 4, 9],\n",
    "    'subsample': [0.8, 0.9],\n",
    "    'colsample_bytree': [0.7],\n",
    "    'n_estimators': [5, 10, 50, 100], #number of trees, change it to 1000 for better results\n",
    "}\n",
    "param_grid['lgbm'] = {\n",
    "    'num_leaves': [2, 3, 5, 10],\n",
    "    'reg_alpha': [0.1, 0.5],\n",
    "    'min_data_in_leaf': [10, 30, 50, 100, 300],\n",
    "    'lambda_l1': [0, 1, 1.5],\n",
    "    'lambda_l2': [0, 1],\n",
    "    'max_depth': [int(i*2) for i in np.logspace(0,1.7,10)]\n",
    "}\n",
    "param_grid['svc']"
   ]
  },
  {
   "cell_type": "code",
   "execution_count": 163,
   "metadata": {
    "scrolled": true
   },
   "outputs": [
    {
     "name": "stdout",
     "output_type": "stream",
     "text": [
      "Fitting model: svc\n",
      "Fitting 5 folds for each of 240 candidates, totalling 1200 fits\n"
     ]
    },
    {
     "name": "stderr",
     "output_type": "stream",
     "text": [
      "[Parallel(n_jobs=-1)]: Using backend LokyBackend with 10 concurrent workers.\n",
      "[Parallel(n_jobs=-1)]: Done   5 tasks      | elapsed:    1.8s\n",
      "[Parallel(n_jobs=-1)]: Done  78 tasks      | elapsed:   20.5s\n",
      "[Parallel(n_jobs=-1)]: Done 201 tasks      | elapsed:  2.0min\n",
      "[Parallel(n_jobs=-1)]: Done 372 tasks      | elapsed:  5.1min\n",
      "[Parallel(n_jobs=-1)]: Done 593 tasks      | elapsed: 10.3min\n",
      "[Parallel(n_jobs=-1)]: Done 862 tasks      | elapsed: 16.3min\n",
      "[Parallel(n_jobs=-1)]: Done 1181 tasks      | elapsed: 24.3min\n",
      "[Parallel(n_jobs=-1)]: Done 1200 out of 1200 | elapsed: 25.6min finished\n"
     ]
    },
    {
     "name": "stdout",
     "output_type": "stream",
     "text": [
      "Fitting model: rfc\n",
      "Fitting 5 folds for each of 3000 candidates, totalling 15000 fits\n"
     ]
    },
    {
     "name": "stderr",
     "output_type": "stream",
     "text": [
      "[Parallel(n_jobs=-1)]: Using backend LokyBackend with 10 concurrent workers.\n",
      "[Parallel(n_jobs=-1)]: Done   5 tasks      | elapsed:    0.1s\n",
      "[Parallel(n_jobs=-1)]: Done 136 tasks      | elapsed:    1.9s\n",
      "[Parallel(n_jobs=-1)]: Done 382 tasks      | elapsed:    5.0s\n",
      "[Parallel(n_jobs=-1)]: Done 724 tasks      | elapsed:    9.3s\n",
      "[Parallel(n_jobs=-1)]: Done 1166 tasks      | elapsed:   15.5s\n",
      "[Parallel(n_jobs=-1)]: Done 1704 tasks      | elapsed:   23.1s\n",
      "[Parallel(n_jobs=-1)]: Done 2342 tasks      | elapsed:   32.1s\n",
      "[Parallel(n_jobs=-1)]: Done 3076 tasks      | elapsed:   42.5s\n",
      "[Parallel(n_jobs=-1)]: Done 3910 tasks      | elapsed:   54.1s\n",
      "[Parallel(n_jobs=-1)]: Done 4840 tasks      | elapsed:  1.1min\n",
      "[Parallel(n_jobs=-1)]: Done 5870 tasks      | elapsed:  1.4min\n",
      "[Parallel(n_jobs=-1)]: Done 6996 tasks      | elapsed:  1.7min\n",
      "[Parallel(n_jobs=-1)]: Done 8222 tasks      | elapsed:  1.9min\n",
      "[Parallel(n_jobs=-1)]: Done 9544 tasks      | elapsed:  2.2min\n",
      "[Parallel(n_jobs=-1)]: Done 10966 tasks      | elapsed:  2.5min\n",
      "[Parallel(n_jobs=-1)]: Done 12484 tasks      | elapsed:  2.8min\n",
      "[Parallel(n_jobs=-1)]: Done 14102 tasks      | elapsed:  3.2min\n",
      "[Parallel(n_jobs=-1)]: Done 15000 out of 15000 | elapsed:  3.4min finished\n",
      "[Parallel(n_jobs=-1)]: Using backend LokyBackend with 10 concurrent workers.\n"
     ]
    },
    {
     "name": "stdout",
     "output_type": "stream",
     "text": [
      "Fitting model: xgb\n",
      "Fitting 5 folds for each of 1536 candidates, totalling 7680 fits\n"
     ]
    },
    {
     "name": "stderr",
     "output_type": "stream",
     "text": [
      "[Parallel(n_jobs=-1)]: Done   5 tasks      | elapsed:   11.5s\n",
      "[Parallel(n_jobs=-1)]: Done 102 tasks      | elapsed:   11.8s\n",
      "[Parallel(n_jobs=-1)]: Done 2612 tasks      | elapsed:   15.0s\n",
      "[Parallel(n_jobs=-1)]: Done 7388 tasks      | elapsed:   18.7s\n",
      "[Parallel(n_jobs=-1)]: Done 7680 out of 7680 | elapsed:   19.0s finished\n",
      "[Parallel(n_jobs=-1)]: Using backend LokyBackend with 10 concurrent workers.\n"
     ]
    },
    {
     "name": "stdout",
     "output_type": "stream",
     "text": [
      "Fitting model: lgbm\n",
      "Fitting 5 folds for each of 2400 candidates, totalling 12000 fits\n"
     ]
    },
    {
     "name": "stderr",
     "output_type": "stream",
     "text": [
      "[Parallel(n_jobs=-1)]: Done   5 tasks      | elapsed:    0.1s\n",
      "[Parallel(n_jobs=-1)]: Done 284 tasks      | elapsed:    0.7s\n",
      "[Parallel(n_jobs=-1)]: Done 2236 tasks      | elapsed:    4.3s\n",
      "[Parallel(n_jobs=-1)]: Done 4972 tasks      | elapsed:    9.2s\n",
      "[Parallel(n_jobs=-1)]: Done 8508 tasks      | elapsed:   15.7s\n",
      "[Parallel(n_jobs=-1)]: Done 11981 out of 12000 | elapsed:   21.8s remaining:    0.0s\n",
      "[Parallel(n_jobs=-1)]: Done 12000 out of 12000 | elapsed:   21.8s finished\n"
     ]
    }
   ],
   "source": [
    "class Classifier:\n",
    "    def __init__(self, model, X_train, y_train, X_test, y_test, param_grid, grid_search=True, randomized_search=False, \n",
    "                 scoring='roc_auc', verbose=4, n_iter=100):\n",
    "        self.X_train = X_train\n",
    "        self.y_train = y_train\n",
    "        self.X_test = X_test\n",
    "        self.y_test = y_test\n",
    "        switch_model = { \n",
    "            \"svc\": SVC(), \n",
    "            \"rfc\": RandomForestClassifier(), \n",
    "            \"xgb\": XGBClassifier(), \n",
    "            \"lgbm\": LGBMClassifier(),\n",
    "        } \n",
    "        self.model = switch_model.get(model, \"\")\n",
    "        if type(self.model) == str:\n",
    "            raise Exception(\"Invalid model\")\n",
    "        self.param_grid = param_grid[model]\n",
    "        if grid_search:\n",
    "            self.model = GridSearchCV(self.model, self.param_grid, scoring=scoring, n_jobs=-1, verbose=verbose, cv=5)\n",
    "        elif randomized_search:\n",
    "            self.model = RandomizedSearchCV(self.model, self.param_grid, scoring=scoring, n_jobs=-1, verbose=verbose, \n",
    "                                          cv=5, n_iter=100)\n",
    "    \n",
    "    def fit_predict(self):\n",
    "        self.model.fit(self.X_train, self.y_train)\n",
    "        self.y_pred = self.model.predict(self.X_test)\n",
    "        self.y_pred_train = self.model.predict(self.X_train)\n",
    "\n",
    "clf = {'svc':None,'rfc':None,'xgb':None,'lgbm':None}\n",
    "for model in clf:\n",
    "    print(\"Fitting model:\",model)\n",
    "    clf[model] = Classifier(model, X_train, y_train, X_test, y_test, param_grid, scoring='accuracy')\n",
    "    clf[model].fit_predict()"
   ]
  },
  {
   "cell_type": "code",
   "execution_count": 164,
   "metadata": {
    "scrolled": true
   },
   "outputs": [
    {
     "name": "stdout",
     "output_type": "stream",
     "text": [
      "RandomForestClassifier(bootstrap=False, ccp_alpha=0.0, class_weight=None,\n",
      "                       criterion='entropy', max_depth=11, max_features='auto',\n",
      "                       max_leaf_nodes=None, max_samples=None,\n",
      "                       min_impurity_decrease=0.0, min_impurity_split=None,\n",
      "                       min_samples_leaf=5, min_samples_split=6,\n",
      "                       min_weight_fraction_leaf=0.0, n_estimators=10,\n",
      "                       n_jobs=None, oob_score=False, random_state=None,\n",
      "                       verbose=0, warm_start=False)\n",
      "XGBClassifier(base_score=0.5, booster=None, colsample_bylevel=1,\n",
      "              colsample_bynode=1, colsample_bytree=0.7, gamma=0, gpu_id=-1,\n",
      "              importance_type='gain', interaction_constraints=None,\n",
      "              learning_rate=0.05, max_delta_step=0, max_depth=10,\n",
      "              min_child_weight=3, missing=nan, monotone_constraints=None,\n",
      "              n_estimators=100, n_jobs=0, num_parallel_tree=1,\n",
      "              objective='binary:logistic', random_state=0, reg_alpha=0,\n",
      "              reg_lambda=1, scale_pos_weight=1, silent=1, subsample=0.9,\n",
      "              tree_method=None, validate_parameters=False, verbosity=None)\n",
      "LGBMClassifier(boosting_type='gbdt', class_weight=None, colsample_bytree=1.0,\n",
      "               importance_type='split', lambda_l1=1.5, lambda_l2=0,\n",
      "               learning_rate=0.1, max_depth=11, min_child_samples=20,\n",
      "               min_child_weight=0.001, min_data_in_leaf=30, min_split_gain=0.0,\n",
      "               n_estimators=100, n_jobs=-1, num_leaves=10, objective=None,\n",
      "               random_state=None, reg_alpha=0.1, reg_lambda=0.0, silent=True,\n",
      "               subsample=1.0, subsample_for_bin=200000, subsample_freq=0)\n"
     ]
    }
   ],
   "source": [
    "print(clf['rfc'].model.best_estimator_)\n",
    "print(clf['xgb'].model.best_estimator_)\n",
    "print(clf['lgbm'].model.best_estimator_)"
   ]
  },
  {
   "cell_type": "code",
   "execution_count": 165,
   "metadata": {
    "scrolled": false
   },
   "outputs": [
    {
     "name": "stdout",
     "output_type": "stream",
     "text": [
      "Model: svc\n"
     ]
    },
    {
     "data": {
      "image/png": "[encoded data removed]",
      "text/plain": [
       "<Figure size 432x288 with 2 Axes>"
      ]
     },
     "metadata": {
      "needs_background": "light"
     },
     "output_type": "display_data"
    },
    {
     "name": "stdout",
     "output_type": "stream",
     "text": [
      "Model: rfc\n"
     ]
    },
    {
     "data": {
      "image/png": "[encoded data removed]",
      "text/plain": [
       "<Figure size 432x288 with 2 Axes>"
      ]
     },
     "metadata": {
      "needs_background": "light"
     },
     "output_type": "display_data"
    },
    {
     "name": "stdout",
     "output_type": "stream",
     "text": [
      "Model: xgb\n"
     ]
    },
    {
     "data": {
      "image/png": "[encoded data removed]",
      "text/plain": [
       "<Figure size 432x288 with 2 Axes>"
      ]
     },
     "metadata": {
      "needs_background": "light"
     },
     "output_type": "display_data"
    },
    {
     "name": "stdout",
     "output_type": "stream",
     "text": [
      "Model: lgbm\n"
     ]
    },
    {
     "data": {
      "image/png": "[encoded data removed]",
      "text/plain": [
       "<Figure size 432x288 with 2 Axes>"
      ]
     },
     "metadata": {
      "needs_background": "light"
     },
     "output_type": "display_data"
    }
   ],
   "source": [
    "from sklearn.metrics import plot_confusion_matrix\n",
    "for model in clf.keys():\n",
    "    print(\"Model:\",model)\n",
    "    disp = plot_confusion_matrix(clf[model].model.best_estimator_, clf[model].X_test, clf[model].y_test, display_labels=['Not Survived', 'Survived'],cmap=plt.cm.Blues)\n",
    "    plt.show()"
   ]
  },
  {
   "cell_type": "code",
   "execution_count": 166,
   "metadata": {},
   "outputs": [
    {
     "name": "stdout",
     "output_type": "stream",
     "text": [
      "Model: svc ; Accuracy score: 0.8044692737430168\n",
      "Model: rfc ; Accuracy score: 0.8100558659217877\n",
      "Model: xgb ; Accuracy score: 0.8156424581005587\n",
      "Model: lgbm ; Accuracy score: 0.8156424581005587\n"
     ]
    }
   ],
   "source": [
    "for model in clf:\n",
    "    print('Model:',model, '; Accuracy score:', accuracy_score(clf[model].y_test, clf[model].y_pred))"
   ]
  },
  {
   "cell_type": "code",
   "execution_count": 167,
   "metadata": {},
   "outputs": [
    {
     "name": "stdout",
     "output_type": "stream",
     "text": [
      "Model: svc ; Accuracy score: 0.8328651685393258\n",
      "Model: rfc ; Accuracy score: 0.8707865168539326\n",
      "Model: xgb ; Accuracy score: 0.9213483146067416\n",
      "Model: lgbm ; Accuracy score: 0.9044943820224719\n"
     ]
    }
   ],
   "source": [
    "for model in clf:\n",
    "    print('Model:',model, '; Accuracy score:', accuracy_score(clf[model].y_train, clf[model].y_pred_train))"
   ]
  },
  {
   "cell_type": "code",
   "execution_count": 141,
   "metadata": {},
   "outputs": [
    {
     "name": "stdout",
     "output_type": "stream",
     "text": [
      "<class 'pandas.core.frame.DataFrame'>\n",
      "RangeIndex: 418 entries, 0 to 417\n",
      "Data columns (total 11 columns):\n",
      " #   Column       Non-Null Count  Dtype  \n",
      "---  ------       --------------  -----  \n",
      " 0   PassengerId  418 non-null    int64  \n",
      " 1   Pclass       418 non-null    int64  \n",
      " 2   Name         418 non-null    object \n",
      " 3   Sex          418 non-null    object \n",
      " 4   Age          332 non-null    float64\n",
      " 5   SibSp        418 non-null    int64  \n",
      " 6   Parch        418 non-null    int64  \n",
      " 7   Ticket       418 non-null    object \n",
      " 8   Fare         417 non-null    float64\n",
      " 9   Cabin        91 non-null     object \n",
      " 10  Embarked     418 non-null    object \n",
      "dtypes: float64(2), int64(4), object(5)\n",
      "memory usage: 36.0+ KB\n"
     ]
    }
   ],
   "source": [
    "test = pd.read_csv('test.csv')\n",
    "test.info()"
   ]
  },
  {
   "cell_type": "code",
   "execution_count": 142,
   "metadata": {},
   "outputs": [
    {
     "name": "stdout",
     "output_type": "stream",
     "text": [
      "['Survived', 'Title_Capt.', 'Title_Mme.', 'Title_Mlle.', 'Title_Don.', 'Title_Sir.', 'Title_Major.', 'Title_Lady.', 'Title_the', 'Title_Jonkheer.', 'Cabin_Level_T', 'Embarked_N']\n",
      "['Title_Dona.']\n",
      "<class 'pandas.core.frame.DataFrame'>\n",
      "RangeIndex: 418 entries, 0 to 417\n",
      "Data columns (total 38 columns):\n",
      " #   Column           Non-Null Count  Dtype  \n",
      "---  ------           --------------  -----  \n",
      " 0   PassengerId      418 non-null    int64  \n",
      " 1   Pclass           418 non-null    int64  \n",
      " 2   Age              418 non-null    float64\n",
      " 3   SibSp            418 non-null    int64  \n",
      " 4   Parch            418 non-null    int64  \n",
      " 5   Fare             418 non-null    float64\n",
      " 6   Title_Mr.        418 non-null    int64  \n",
      " 7   Title_Miss.      418 non-null    int64  \n",
      " 8   Title_Dr.        418 non-null    int64  \n",
      " 9   Title_Ms.        418 non-null    int64  \n",
      " 10  Title_Col.       418 non-null    int64  \n",
      " 11  Title_Mrs.       418 non-null    int64  \n",
      " 12  Title_Master.    418 non-null    int64  \n",
      " 13  Title_Rev.       418 non-null    int64  \n",
      " 14  Sex_male         418 non-null    int64  \n",
      " 15  Sex_female       418 non-null    int64  \n",
      " 16  Cabin_Level_A    418 non-null    int64  \n",
      " 17  Cabin_Level_E    418 non-null    int64  \n",
      " 18  Cabin_Level_N    418 non-null    int64  \n",
      " 19  Cabin_Level_C    418 non-null    int64  \n",
      " 20  Cabin_Level_B    418 non-null    int64  \n",
      " 21  Cabin_Level_D    418 non-null    int64  \n",
      " 22  Cabin_Level_F    418 non-null    int64  \n",
      " 23  Cabin_Level_G    418 non-null    int64  \n",
      " 24  Embarked_S       418 non-null    int64  \n",
      " 25  Embarked_Q       418 non-null    int64  \n",
      " 26  Embarked_C       418 non-null    int64  \n",
      " 27  Title_Capt.      418 non-null    int64  \n",
      " 28  Title_Mme.       418 non-null    int64  \n",
      " 29  Title_Mlle.      418 non-null    int64  \n",
      " 30  Title_Don.       418 non-null    int64  \n",
      " 31  Title_Sir.       418 non-null    int64  \n",
      " 32  Title_Major.     418 non-null    int64  \n",
      " 33  Title_Lady.      418 non-null    int64  \n",
      " 34  Title_the        418 non-null    int64  \n",
      " 35  Title_Jonkheer.  418 non-null    int64  \n",
      " 36  Cabin_Level_T    418 non-null    int64  \n",
      " 37  Embarked_N       418 non-null    int64  \n",
      "dtypes: float64(2), int64(36)\n",
      "memory usage: 124.2 KB\n"
     ]
    }
   ],
   "source": [
    "test_transformed = transform(test)\n",
    "test_transformed['Fare'] = test_transformed['Fare'].fillna(0)\n",
    "extra_columns = [col for col in transformed.columns if col not in test_transformed.columns]\n",
    "print(extra_columns)\n",
    "for col in extra_columns:\n",
    "    if col != 'Survived':\n",
    "        test_transformed[col] = [0]*test_transformed.shape[0]\n",
    "redundant_columns  = [col for col in test_transformed.columns if col not in transformed.columns]\n",
    "print(redundant_columns)\n",
    "for col in redundant_columns:\n",
    "    test_transformed.drop(col, axis=1, inplace=True)\n",
    "test_transformed.info()"
   ]
  },
  {
   "cell_type": "code",
   "execution_count": 146,
   "metadata": {},
   "outputs": [
    {
     "data": {
      "text/plain": [
       "array([0, 0, 0, 0, 0, 0, 1, 0, 1, 0, 0, 0, 1, 0, 1, 1, 0, 0, 0, 0, 0, 1,\n",
       "       1, 0, 1, 0, 1, 0, 0, 0, 0, 0, 1, 0, 1, 0, 0, 0, 0, 0, 0, 1, 0, 1,\n",
       "       1, 0, 0, 0, 1, 1, 0, 0, 1, 1, 0, 0, 0, 0, 0, 1, 0, 0, 0, 1, 1, 1,\n",
       "       1, 0, 1, 1, 1, 0, 0, 1, 1, 0, 0, 1, 0, 1, 1, 0, 0, 0, 0, 0, 1, 1,\n",
       "       1, 1, 0, 0, 1, 0, 0, 0, 1, 0, 1, 0, 1, 0, 0, 0, 0, 0, 0, 0, 0, 0,\n",
       "       0, 0, 1, 1, 1, 0, 0, 1, 0, 1, 1, 0, 1, 0, 0, 1, 0, 0, 0, 0, 0, 0,\n",
       "       0, 0, 0, 0, 0, 0, 0, 0, 0, 1, 0, 0, 0, 0, 0, 0, 0, 0, 1, 0, 0, 1,\n",
       "       0, 0, 1, 1, 1, 0, 1, 1, 1, 0, 0, 0, 0, 0, 1, 1, 0, 0, 0, 0, 0, 1,\n",
       "       1, 0, 1, 1, 0, 1, 1, 0, 1, 0, 1, 0, 0, 0, 0, 0, 1, 0, 1, 0, 1, 1,\n",
       "       0, 0, 1, 1, 0, 1, 0, 0, 1, 0, 1, 0, 0, 0, 0, 1, 0, 0, 0, 0, 1, 0,\n",
       "       1, 0, 1, 0, 1, 1, 0, 1, 0, 0, 0, 1, 0, 0, 0, 0, 0, 0, 1, 1, 1, 1,\n",
       "       0, 0, 1, 0, 1, 0, 1, 0, 1, 0, 1, 0, 0, 0, 0, 0, 1, 0, 0, 0, 1, 1,\n",
       "       0, 0, 0, 0, 0, 0, 0, 0, 1, 1, 0, 1, 0, 0, 0, 0, 0, 1, 1, 0, 1, 0,\n",
       "       0, 1, 0, 0, 0, 1, 0, 0, 0, 0, 1, 0, 0, 0, 0, 0, 0, 0, 1, 1, 0, 1,\n",
       "       0, 0, 0, 0, 0, 0, 1, 1, 0, 0, 0, 0, 0, 0, 0, 0, 1, 0, 1, 0, 0, 0,\n",
       "       1, 0, 0, 1, 0, 0, 0, 0, 0, 1, 0, 0, 0, 1, 1, 1, 0, 1, 0, 1, 1, 0,\n",
       "       0, 0, 1, 0, 1, 0, 0, 1, 0, 1, 1, 0, 1, 0, 0, 0, 1, 0, 0, 1, 0, 0,\n",
       "       1, 1, 0, 0, 0, 0, 0, 0, 0, 1, 0, 1, 0, 0, 0, 0, 1, 1, 1, 0, 0, 1,\n",
       "       0, 1, 0, 0, 1, 0, 1, 0, 1, 0, 0, 0, 1, 1, 1, 1, 0, 0, 1, 0, 0, 1])"
      ]
     },
     "execution_count": 146,
     "metadata": {},
     "output_type": "execute_result"
    }
   ],
   "source": [
    "y = clf['xgb'].clf.predict(test_transformed[clf[model].X_test.columns])\n",
    "y"
   ]
  },
  {
   "cell_type": "code",
   "execution_count": 147,
   "metadata": {},
   "outputs": [],
   "source": [
    "pd.DataFrame({'PassengerId':test_transformed['PassengerId'], 'Survived':y}).to_csv('predict.csv', index=False)"
   ]
  },
  {
   "cell_type": "code",
   "execution_count": null,
   "metadata": {},
   "outputs": [],
   "source": []
  }
 ],
 "metadata": {
  "kernelspec": {
   "display_name": "Python 3",
   "language": "python",
   "name": "python3"
  },
  "language_info": {
   "codemirror_mode": {
    "name": "ipython",
    "version": 3
   },
   "file_extension": ".py",
   "mimetype": "text/x-python",
   "name": "python",
   "nbconvert_exporter": "python",
   "pygments_lexer": "ipython3",
   "version": "3.7.6"
  }
 },
 "nbformat": 4,
 "nbformat_minor": 4
}
